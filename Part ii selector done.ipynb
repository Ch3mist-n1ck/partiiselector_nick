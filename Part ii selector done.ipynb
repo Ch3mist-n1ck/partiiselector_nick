{
 "cells": [
  {
   "cell_type": "code",
   "execution_count": 17,
   "id": "ff24f733",
   "metadata": {},
   "outputs": [],
   "source": [
    "import requests\n",
    "from bs4 import BeautifulSoup\n",
    "from selenium import webdriver\n",
    "from webdriver_manager.chrome import ChromeDriverManager\n",
    "from selenium.webdriver.chrome.service import Service as ChromeService\n",
    "service=ChromeService(executable_path=ChromeDriverManager().install())\n",
    "\n",
    "def scraper():\n",
    "    global lecturers\n",
    "    global bio\n",
    "    lecturers={}\n",
    "\n",
    "    driver=webdriver.Chrome(service=service)\n",
    "    URL=\"https://www.chem.ox.ac.uk/academic-staff?page-2599801=0\"\n",
    "    driver.get(URL)\n",
    "    soup=BeautifulSoup(driver.page_source,\"html.parser\")\n",
    "    driver.quit()\n",
    "    people=soup.find_all(\"article\")\n",
    "    for person in people:\n",
    "        lecturers.update([(person[\"aria-label\"],person[\"about\"])])\n",
    "    bio={}\n",
    "    for link in list(lecturers.values()):\n",
    "        work=[]\n",
    "        URL=link\n",
    "        page=requests.get(URL)\n",
    "        soup=BeautifulSoup(page.content,\"html.parser\")\n",
    "        work=soup.find_all(\"p\")\n",
    "        texts=[]\n",
    "        for i in work:\n",
    "            if i.text==work[1].text:\n",
    "                pass\n",
    "            elif i.text==work[0].text:\n",
    "                pass\n",
    "            else:\n",
    "                texts.append(i.text)\n",
    "        bio.update([(list(lecturers)[list(lecturers.values()).index(link)],texts)])\n",
    "        #print(bio)\n",
    "def phrase(*args ,condense=False):\n",
    "    if condense==False:\n",
    "        for word in args:\n",
    "            people_i_need=[]\n",
    "            for lecturer in list(bio.values()):\n",
    "                condition=0\n",
    "                for keyword in lecturer:\n",
    "                    if keyword.count(word)>0:\n",
    "                        condition+=1\n",
    "                    else:\n",
    "                        condition+=0\n",
    "                if condition>0:\n",
    "                    people_i_need.append(list(lecturers.values())[list(bio.values()).index(lecturer)])\n",
    "                else:\n",
    "                    pass\n",
    "            print(people_i_need)\n",
    "    elif condense==True:\n",
    "        people_i_need=[]\n",
    "        for word in args:\n",
    "            for lecturer in list(bio.values()):\n",
    "                condition=0\n",
    "                for keyword in lecturer:\n",
    "                    if keyword.count(word)>0:\n",
    "                        condition+=1\n",
    "                    else:\n",
    "                        condition+=0\n",
    "                if condition>0:\n",
    "                    people_i_need.append(list(lecturers.values())[list(bio.values()).index(lecturer)])\n",
    "                else:\n",
    "                    pass\n",
    "            print(people_i_need)\n",
    "scraper()"
   ]
  },
  {
   "cell_type": "code",
   "execution_count": 18,
   "id": "4266445f",
   "metadata": {},
   "outputs": [
    {
     "name": "stdout",
     "output_type": "stream",
     "text": [
      "['https://www.chem.ox.ac.uk/people/harry-anderson', 'https://www.chem.ox.ac.uk/people/william-barford', 'https://www.chem.ox.ac.uk/people/mark-brouard', 'https://www.chem.ox.ac.uk/people/volker-deringer', 'https://www.chem.ox.ac.uk/people/fernanda-duarte', 'https://www.chem.ox.ac.uk/people/peter-hore', 'https://www.chem.ox.ac.uk/people/adam-kirrander-0', 'https://www.chem.ox.ac.uk/people/david-logan', 'https://www.chem.ox.ac.uk/people/stuart-mackenzie', 'https://www.chem.ox.ac.uk/people/david-manolopoulos', 'https://www.chem.ox.ac.uk/people/stephan-rauschenbach', 'https://www.chem.ox.ac.uk/people/david-tew', 'https://www.chem.ox.ac.uk/people/christiane-timmel']\n"
     ]
    }
   ],
   "source": [
    "phrase(\"quantum\")"
   ]
  },
  {
   "cell_type": "code",
   "execution_count": null,
   "id": "af4cb40e",
   "metadata": {},
   "outputs": [],
   "source": []
  }
 ],
 "metadata": {
  "kernelspec": {
   "display_name": "Python 3 (ipykernel)",
   "language": "python",
   "name": "python3"
  },
  "language_info": {
   "codemirror_mode": {
    "name": "ipython",
    "version": 3
   },
   "file_extension": ".py",
   "mimetype": "text/x-python",
   "name": "python",
   "nbconvert_exporter": "python",
   "pygments_lexer": "ipython3",
   "version": "3.9.7"
  }
 },
 "nbformat": 4,
 "nbformat_minor": 5
}
